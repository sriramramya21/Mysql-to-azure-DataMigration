{
 "cells": [
  {
   "cell_type": "code",
   "execution_count": 0,
   "metadata": {
    "application/vnd.databricks.v1+cell": {
     "cellMetadata": {
      "byteLimit": 2048000,
      "rowLimit": 10000
     },
     "inputWidgets": {},
     "nuid": "1305c473-e819-4d83-a3c3-329e68bbd22b",
     "showTitle": false,
     "tableResultSettingsMap": {},
     "title": ""
    }
   },
   "outputs": [],
   "source": [
    "from pyspark.sql.functions import *\n",
    "from pyspark.sql.types import *\n",
    "import json\n",
    "import pandas as pd\n",
    "from datetime import datetime\n"
   ]
  },
  {
   "cell_type": "code",
   "execution_count": 0,
   "metadata": {
    "application/vnd.databricks.v1+cell": {
     "cellMetadata": {
      "byteLimit": 2048000,
      "rowLimit": 10000
     },
     "inputWidgets": {},
     "nuid": "8348892e-3d2c-47c0-b814-ccb8386304a5",
     "showTitle": false,
     "tableResultSettingsMap": {},
     "title": ""
    }
   },
   "outputs": [],
   "source": [
    "\n",
    "\n",
    "def validate_schema(table_name, df_new):\n",
    "    schema_path = f\"abfss://schemafolder@migrationstoragerinith.dfs.core.windows.net/first_method/{table_name}_schema.json\"\n",
    "    \n",
    "    try:\n",
    "        # Read existing schema JSON from ADLS\n",
    "        baseline_json = (\n",
    "            spark.read.text(schema_path)\n",
    "            .collect()[0][0]\n",
    "        )\n",
    "        baseline_schema = StructType.fromJson(json.loads(baseline_json))\n",
    "        \n",
    "        # Compare columns\n",
    "        baseline_cols = set([f.name for f in baseline_schema.fields])\n",
    "        new_cols = set(df_new.columns)\n",
    "        \n",
    "        added_cols = new_cols - baseline_cols\n",
    "        removed_cols = baseline_cols - new_cols\n",
    "\n",
    "        if added_cols or removed_cols:\n",
    "             raise Exception(f\" Schema drift in `{table_name}`:\\n Added: {added_cols}\\n Removed: {removed_cols}\")\n",
    "        else:\n",
    "            print(f\"Schema matches for `{table_name}`\")\n",
    "\n",
    "    except Exception as e:\n",
    "        print(f\"⚠️ No baseline schema found or error occurred: {e}\")\n",
    "        print(f\"🔁 Saving new schema for `{table_name}`\")\n",
    "\n",
    "        schema_json = df_new.schema.json()\n",
    "\n",
    "        # Save as JSON string using Spark (correctly to ADLS)\n",
    "        spark.createDataFrame([(schema_json,)], [\"schema\"]) \\\n",
    "            .write.mode(\"overwrite\") \\\n",
    "            .text(schema_path)\n",
    "\n",
    "\n",
    "\n",
    "\n",
    "\n",
    "\n"
   ]
  },
  {
   "cell_type": "code",
   "execution_count": 0,
   "metadata": {
    "application/vnd.databricks.v1+cell": {
     "cellMetadata": {
      "byteLimit": 2048000,
      "rowLimit": 10000
     },
     "inputWidgets": {},
     "nuid": "f02679de-78f7-47e6-8d2e-41aa055c2bfd",
     "showTitle": false,
     "tableResultSettingsMap": {},
     "title": ""
    }
   },
   "outputs": [],
   "source": [
    "    table_name = \"orders\"\n",
    "    path = \"abfss://bronze@migrationstoragerinith.dfs.core.windows.net/first_method/orders\"\n",
    "\n",
    "    try:\n",
    "        df = spark.read.option(\"header\", True).csv(path)\n",
    "        validate_schema(table_name, df)\n",
    "        print(f\"Processed schema check for: {table_name}\")\n",
    "    except Exception as e:\n",
    "        print(f\"Failed for {table_name}: {str(e)}\")"
   ]
  }
 ],
 "metadata": {
  "application/vnd.databricks.v1+notebook": {
   "computePreferences": null,
   "dashboards": [],
   "environmentMetadata": {
    "base_environment": "",
    "environment_version": "2"
   },
   "inputWidgetPreferences": null,
   "language": "python",
   "notebookMetadata": {
    "pythonIndentUnit": 4
   },
   "notebookName": "FM_schema_valuation",
   "widgets": {}
  },
  "language_info": {
   "name": "python"
  }
 },
 "nbformat": 4,
 "nbformat_minor": 0
}
